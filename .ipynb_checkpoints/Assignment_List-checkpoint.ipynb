{
 "cells": [
  {
   "cell_type": "markdown",
<<<<<<< HEAD
   "id": "160c63cc",
   "metadata": {},
   "source": [
    "## List Exercises......"
   ]
  },
  {
   "cell_type": "markdown",
   "id": "97c99978",
   "metadata": {},
   "source": [
    "##### 1. Indexing and Negative Indexing (How can You reverse a string through indexing?)"
=======
   "id": "97c99978",
   "metadata": {},
   "source": [
    "Q. Indexing and Negative Indexing (How can You reverse a string through indexing?)"
>>>>>>> 6e180b305d62f82807f1ae5c40a65ad222ed7aa9
   ]
  },
  {
   "cell_type": "code",
<<<<<<< HEAD
   "execution_count": 1,
   "id": "b878a11a",
   "metadata": {},
   "outputs": [
    {
     "name": "stdout",
     "output_type": "stream",
     "text": [
      "dlrow olleH\n"
     ]
    }
   ],
   "source": [
    "#index value starts from 0\n",
    "#negative index starts from -1\n",
    "s='Hello world'\n",
    "print(s[::-1])"
=======
   "execution_count": 5,
   "id": "561d6ace",
   "metadata": {},
   "outputs": [
    {
     "data": {
      "text/plain": [
       "[8, 2, 7, 4]"
      ]
     },
     "execution_count": 5,
     "metadata": {},
     "output_type": "execute_result"
    }
   ],
   "source": [
    "lst = [4,7,2,8]\n",
    "#positive indexing is 0,1,2,3 --->\n",
    "#negative indexing is -4 -3 -2 -1 <----\n",
    "\n",
    "lst [3] #--- 8\n",
    "lst [-2] # --- 2\n",
    "lst[::-1]"
>>>>>>> 6e180b305d62f82807f1ae5c40a65ad222ed7aa9
   ]
  },
  {
   "cell_type": "markdown",
   "id": "ee5feec9",
   "metadata": {},
   "source": [
<<<<<<< HEAD
    "#####  2. example given the string \"Welcome to the danger zone\" should become \"zone danger the to Welcome\" and not enoz regnad eht ot emocleW"
=======
    "Q. example given the string \"Welcome to the danger zone\" should become \"zone danger the to Welcome\" and not enoz regnad eht ot emocleW"
>>>>>>> 6e180b305d62f82807f1ae5c40a65ad222ed7aa9
   ]
  },
  {
   "cell_type": "code",
   "execution_count": 2,
<<<<<<< HEAD
   "id": "2410ce36",
=======
   "id": "2cb16143",
>>>>>>> 6e180b305d62f82807f1ae5c40a65ad222ed7aa9
   "metadata": {},
   "outputs": [
    {
     "name": "stdout",
     "output_type": "stream",
     "text": [
<<<<<<< HEAD
      " zone danger the to Welcome\n"
=======
      "zone danger the to Welcome \n"
>>>>>>> 6e180b305d62f82807f1ae5c40a65ad222ed7aa9
     ]
    }
   ],
   "source": [
<<<<<<< HEAD
    "s1='Welcome to the danger zone'\n",
    "s2=''\n",
    "for i in s1.split()[::-1]:\n",
    "    s2=s2+\" \" +i\n",
    "print(s2)"
=======
    "# Step 1: split the sentence into words and then \n",
    "# Step 2: loop through the elements and append the elements\n",
    "str = \"Welcome to the danger zone\"\n",
    "str_list = str.split()\n",
    "out_str = \"\"\n",
    "for word in str_list[::-1]:\n",
    "    out_str = out_str + word + \" \"\n",
    "print(out_str)"
   ]
  },
  {
   "cell_type": "code",
   "execution_count": 4,
   "id": "9665c569",
   "metadata": {},
   "outputs": [
    {
     "name": "stdout",
     "output_type": "stream",
     "text": [
      "zone danger the to Welcome\n"
     ]
    }
   ],
   "source": [
    "str = \"Welcome to the danger zone\"\n",
    "str_list = str.split()\n",
    "out_str_2 = \" \".join([word for word in str_list[::-1]])\n",
    "print(out_str_2)"
>>>>>>> 6e180b305d62f82807f1ae5c40a65ad222ed7aa9
   ]
  },
  {
   "cell_type": "markdown",
   "id": "79a8379e",
   "metadata": {},
   "source": [
<<<<<<< HEAD
    "##### 3. You are given a string input, let's say \"Hello World!\". Your output should be, how many times each character is showing up in the string. So, in this example, it should write:\n",
=======
    "Q. You are given a string input, let's say \"Hello World!\". Your output should be, how many times each character is showing up in the string. So, in this example, it should write:\n",
>>>>>>> 6e180b305d62f82807f1ae5c40a65ad222ed7aa9
    "\n",
    "H: 1 e: 1 l: 3 o: 2"
   ]
  },
  {
   "cell_type": "code",
<<<<<<< HEAD
   "execution_count": 5,
   "id": "8fced326",
=======
   "execution_count": 6,
   "id": "3b3b26b0",
>>>>>>> 6e180b305d62f82807f1ae5c40a65ad222ed7aa9
   "metadata": {},
   "outputs": [
    {
     "name": "stdout",
     "output_type": "stream",
     "text": [
<<<<<<< HEAD
      "H: 1 e: 1 l: 3 o: 2 W: 1 r: 1 d: 1 "
=======
      "{'H': 1, 'e': 1, 'l': 3, 'o': 2, ' ': 1, 'W': 1, 'r': 1, 'd': 1}\n"
>>>>>>> 6e180b305d62f82807f1ae5c40a65ad222ed7aa9
     ]
    }
   ],
   "source": [
<<<<<<< HEAD
    "s1='Hello World'\n",
    "s2={}\n",
    "for item in s1:\n",
    "    if (item not in s2) and item!=' ':\n",
    "        s2.update({item:s1.count(item)})\n",
    "        print(f'{item}: {s1.count(item)}',end=' ')"
=======
    "str_hello = \"Hello World\"\n",
    "out_dict = {}\n",
    "for elm in str_hello:\n",
    "    if out_dict.get(elm):\n",
    "        val = out_dict.get(elm)\n",
    "        val = val +1\n",
    "        out_dict[elm] = val\n",
    "    else:\n",
    "        out_dict[elm] = 1\n",
    "print(out_dict)\n",
    "        "
>>>>>>> 6e180b305d62f82807f1ae5c40a65ad222ed7aa9
   ]
  },
  {
   "cell_type": "markdown",
   "id": "0b5db718",
   "metadata": {},
   "source": [
<<<<<<< HEAD
    "##### 4. What is difference between python scripts and Modules?"
=======
    "Q. What is difference between python scripts and Modules?"
>>>>>>> 6e180b305d62f82807f1ae5c40a65ad222ed7aa9
   ]
  },
  {
   "cell_type": "code",
   "execution_count": null,
<<<<<<< HEAD
   "id": "251b6a56",
   "metadata": {},
   "outputs": [],
   "source": [
    "#Python script is a directly executable piece of code run by itself.\n",
    "#Module is a library imported by other pieces of code.\n",
    "\n",
    "#Scripts are top level files intended for execution and \n",
    "#Modules are intented to be imported..."
=======
   "id": "c19c47c3",
   "metadata": {},
   "outputs": [],
   "source": [
    "# Theory Question\n",
    "# Scripts -- we are generally executes , where as modules are supposed to imported in other scripts or modules"
>>>>>>> 6e180b305d62f82807f1ae5c40a65ad222ed7aa9
   ]
  },
  {
   "cell_type": "markdown",
   "id": "ceb9ee6c",
   "metadata": {},
   "source": [
<<<<<<< HEAD
    "##### 5. What is the difference between lists and tuples? Which is faster, which is more size ..etc?"
=======
    "Q. What is the difference between lists and tuples? Which is faster, which is more size ..etc?"
>>>>>>> 6e180b305d62f82807f1ae5c40a65ad222ed7aa9
   ]
  },
  {
   "cell_type": "code",
<<<<<<< HEAD
   "execution_count": null,
   "id": "2a61888f",
   "metadata": {},
   "outputs": [],
   "source": [
    "#List is mutable where as tuple is immutable\n",
    "#list is used to perfom operations like adding ,deleting etc. where as tuple is used for accessesing\n",
    "#list will take more time when compared to tuple while iterations.\n",
    "#list consume more memory where as tuple consumes less memory."
=======
   "execution_count": 14,
   "id": "d60aaab2",
   "metadata": {},
   "outputs": [
    {
     "name": "stdout",
     "output_type": "stream",
     "text": [
      "lst time 0.04228091239929199\n",
      "start_tuple time 0.005048274993896484\n"
     ]
    }
   ],
   "source": [
    "# https://www.educative.io/edpresso/tuples-vs-list-in-python#:~:text=Tuple%20has%20a%20small%20memory.&text=Tuple%20is%20stored%20in%20a,faster%20than%20creating%20a%20list.\n",
    "\n",
    "import time\n",
    "import random\n",
    "\n",
    "start_time = time.time()\n",
    "lst = random.sample(range(10, 300000), 50000)\n",
    "\n",
    "\n",
    "sum = 0\n",
    "for elm in lst:\n",
    "    sum = sum + elm\n",
    "end_time = time.time()\n",
    "print(\"lst time\", end_time -start_time)\n",
    "\n",
    "start_time = time.time()\n",
    "start_tuple = tuple(lst)\n",
    "sum = 0\n",
    "for elm in start_tuple:\n",
    "    sum = sum + elm\n",
    "end_time = time.time()\n",
    "print(\"start_tuple time\", end_time -start_time)\n"
   ]
  },
  {
   "cell_type": "code",
   "execution_count": 16,
   "id": "10d76629",
   "metadata": {},
   "outputs": [
    {
     "name": "stdout",
     "output_type": "stream",
     "text": [
      "400040\n"
     ]
    }
   ],
   "source": [
    "print(lst.__sizeof__())"
   ]
  },
  {
   "cell_type": "code",
   "execution_count": 17,
   "id": "1610c0af",
   "metadata": {},
   "outputs": [
    {
     "name": "stdout",
     "output_type": "stream",
     "text": [
      "400024\n"
     ]
    }
   ],
   "source": [
    "print(start_tuple.__sizeof__())"
>>>>>>> 6e180b305d62f82807f1ae5c40a65ad222ed7aa9
   ]
  },
  {
   "cell_type": "markdown",
   "id": "8b568f4d",
   "metadata": {},
   "source": [
<<<<<<< HEAD
    "##### 6. List append and extend method difference?"
=======
    "Q. List append and extend method difference?"
>>>>>>> 6e180b305d62f82807f1ae5c40a65ad222ed7aa9
   ]
  },
  {
   "cell_type": "code",
<<<<<<< HEAD
   "execution_count": null,
   "id": "aa13d207",
   "metadata": {},
   "outputs": [],
   "source": [
    "#append() method will adds its argument as a single element to list of items at the end.\n",
    "#extend() method will add list of items individually at the end."
=======
   "execution_count": 32,
   "id": "6a62e4f2",
   "metadata": {},
   "outputs": [],
   "source": [
    "lst_or = [2,3,4,5,6]\n",
    "lst_append = [3,4,5]\n",
    "lst_ext = [9,8,7]"
   ]
  },
  {
   "cell_type": "code",
   "execution_count": 33,
   "id": "8e623bb6",
   "metadata": {},
   "outputs": [
    {
     "data": {
      "text/plain": [
       "[2, 3, 4, 5, 6, [3, 4, 5]]"
      ]
     },
     "execution_count": 33,
     "metadata": {},
     "output_type": "execute_result"
    }
   ],
   "source": [
    "lst_or.append(lst_append)\n",
    "lst_or"
   ]
  },
  {
   "cell_type": "code",
   "execution_count": 34,
   "id": "6d06e1ea",
   "metadata": {},
   "outputs": [
    {
     "data": {
      "text/plain": [
       "[2, 3, 4, 5, 6, [3, 4, 5], 9, 8, 7]"
      ]
     },
     "execution_count": 34,
     "metadata": {},
     "output_type": "execute_result"
    }
   ],
   "source": [
    "lst_or.extend(lst_ext)\n",
    "lst_or"
>>>>>>> 6e180b305d62f82807f1ae5c40a65ad222ed7aa9
   ]
  },
  {
   "cell_type": "markdown",
   "id": "fca842c4",
   "metadata": {},
   "source": [
<<<<<<< HEAD
    "##### 7. Remove, pop and delete method difference on list?"
=======
    "Q. Remove, pop and delete method difference on list?"
>>>>>>> 6e180b305d62f82807f1ae5c40a65ad222ed7aa9
   ]
  },
  {
   "cell_type": "code",
<<<<<<< HEAD
   "execution_count": null,
   "id": "7b5cad7b",
   "metadata": {},
   "outputs": [],
   "source": [
    "#remove() will removes first matching value from the list\n",
    "#pop() will deletes the specified intex value item and returns deleted value.\n",
    "#clear() will removes total value from object."
=======
   "execution_count": 35,
   "id": "d7776338",
   "metadata": {},
   "outputs": [],
   "source": [
    "lst_or.remove(4)"
   ]
  },
  {
   "cell_type": "code",
   "execution_count": 36,
   "id": "91216a53",
   "metadata": {},
   "outputs": [
    {
     "data": {
      "text/plain": [
       "[2, 3, 5, 6, [3, 4, 5], 9, 8, 7]"
      ]
     },
     "execution_count": 36,
     "metadata": {},
     "output_type": "execute_result"
    }
   ],
   "source": [
    "lst_or"
   ]
  },
  {
   "cell_type": "code",
   "execution_count": 37,
   "id": "cc3f7195",
   "metadata": {},
   "outputs": [
    {
     "ename": "ValueError",
     "evalue": "list.remove(x): x not in list",
     "output_type": "error",
     "traceback": [
      "\u001b[1;31m---------------------------------------------------------------------------\u001b[0m",
      "\u001b[1;31mValueError\u001b[0m                                Traceback (most recent call last)",
      "\u001b[1;32mC:\\Users\\VINODK~1\\AppData\\Local\\Temp/ipykernel_11052/3825530377.py\u001b[0m in \u001b[0;36m<module>\u001b[1;34m\u001b[0m\n\u001b[1;32m----> 1\u001b[1;33m \u001b[0mlst_or\u001b[0m\u001b[1;33m.\u001b[0m\u001b[0mremove\u001b[0m\u001b[1;33m(\u001b[0m\u001b[1;36m455\u001b[0m\u001b[1;33m)\u001b[0m\u001b[1;33m\u001b[0m\u001b[1;33m\u001b[0m\u001b[0m\n\u001b[0m",
      "\u001b[1;31mValueError\u001b[0m: list.remove(x): x not in list"
     ]
    }
   ],
   "source": [
    "lst_or.remove(455)"
   ]
  },
  {
   "cell_type": "code",
   "execution_count": 38,
   "id": "128fed68",
   "metadata": {},
   "outputs": [
    {
     "data": {
      "text/plain": [
       "7"
      ]
     },
     "execution_count": 38,
     "metadata": {},
     "output_type": "execute_result"
    }
   ],
   "source": [
    "lst_or.pop()"
   ]
  },
  {
   "cell_type": "code",
   "execution_count": 39,
   "id": "830e0b53",
   "metadata": {},
   "outputs": [
    {
     "data": {
      "text/plain": [
       "[2, 3, 6, [3, 4, 5], 9, 8]"
      ]
     },
     "execution_count": 39,
     "metadata": {},
     "output_type": "execute_result"
    }
   ],
   "source": [
    "del lst_or[2]\n",
    "lst_or"
>>>>>>> 6e180b305d62f82807f1ae5c40a65ad222ed7aa9
   ]
  },
  {
   "cell_type": "markdown",
   "id": "cc4d97aa",
   "metadata": {},
   "source": [
<<<<<<< HEAD
    "##### 8. Check if a list contains an element"
=======
    "Q. Check if a list contains an element"
>>>>>>> 6e180b305d62f82807f1ae5c40a65ad222ed7aa9
   ]
  },
  {
   "cell_type": "code",
<<<<<<< HEAD
   "execution_count": 8,
   "id": "fb8b3757",
=======
   "execution_count": 40,
   "id": "f59e05ac",
   "metadata": {},
   "outputs": [],
   "source": [
    "if 6 in lst:\n",
    "    print(\"element is there\")"
   ]
  },
  {
   "cell_type": "code",
   "execution_count": 41,
   "id": "af727a66",
>>>>>>> 6e180b305d62f82807f1ae5c40a65ad222ed7aa9
   "metadata": {},
   "outputs": [
    {
     "name": "stdout",
     "output_type": "stream",
     "text": [
<<<<<<< HEAD
      "Apple is available in my fridge..\n"
=======
      "element is not there\n"
>>>>>>> 6e180b305d62f82807f1ae5c40a65ad222ed7aa9
     ]
    }
   ],
   "source": [
<<<<<<< HEAD
    "myList=['apple','banana','orange']\n",
    "if 'apple' in myList:\n",
    "    print('Apple is available in my fridge..')\n",
    "else:\n",
    "    print('Not available!!!!')"
=======
    "if 300 not in lst:\n",
    "    print(\"element is not there\")"
>>>>>>> 6e180b305d62f82807f1ae5c40a65ad222ed7aa9
   ]
  },
  {
   "cell_type": "markdown",
   "id": "5f2a6762",
   "metadata": {},
   "source": [
<<<<<<< HEAD
    "##### 9. What does “del” do?"
=======
    "Q. What does “del” do?"
>>>>>>> 6e180b305d62f82807f1ae5c40a65ad222ed7aa9
   ]
  },
  {
   "cell_type": "code",
<<<<<<< HEAD
   "execution_count": null,
   "id": "b9447d20",
   "metadata": {},
   "outputs": [],
   "source": [
    "#del is a keyword to del either specified item with index value or entire data of object."
=======
   "execution_count": 42,
   "id": "0cd32421",
   "metadata": {},
   "outputs": [],
   "source": [
    "# remove the element from the given object, we can use this for all mutuble objects"
>>>>>>> 6e180b305d62f82807f1ae5c40a65ad222ed7aa9
   ]
  },
  {
   "cell_type": "markdown",
   "id": "b2527eb7",
   "metadata": {},
   "source": [
<<<<<<< HEAD
    "##### 10. Find the index of the 1st matching element?"
=======
    "Q. Find the index of the 1st matching element?"
>>>>>>> 6e180b305d62f82807f1ae5c40a65ad222ed7aa9
   ]
  },
  {
   "cell_type": "code",
<<<<<<< HEAD
   "execution_count": 21,
   "id": "354dc78d",
   "metadata": {},
   "outputs": [
    {
     "name": "stdout",
     "output_type": "stream",
     "text": [
      "2\n"
     ]
    }
   ],
   "source": [
    "inp=3\n",
    "l=[1,2,3,4,5,3,7,3,9,10]\n",
    "print(l.index(3))"
=======
   "execution_count": 45,
   "id": "8dd7324a",
   "metadata": {},
   "outputs": [
    {
     "data": {
      "text/plain": [
       "4"
      ]
     },
     "execution_count": 45,
     "metadata": {},
     "output_type": "execute_result"
    }
   ],
   "source": [
    "lst_or.index(9)"
   ]
  },
  {
   "cell_type": "code",
   "execution_count": 46,
   "id": "d5e49470",
   "metadata": {},
   "outputs": [],
   "source": [
    "lst_or.extend([2,3,9])"
   ]
  },
  {
   "cell_type": "code",
   "execution_count": 48,
   "id": "161f5644",
   "metadata": {},
   "outputs": [
    {
     "data": {
      "text/plain": [
       "[2, 3, 6, [3, 4, 5], 9, 8, 2, 3, 9]"
      ]
     },
     "execution_count": 48,
     "metadata": {},
     "output_type": "execute_result"
    }
   ],
   "source": [
    "lst_or"
   ]
  },
  {
   "cell_type": "code",
   "execution_count": 49,
   "id": "441c15ab",
   "metadata": {},
   "outputs": [
    {
     "data": {
      "text/plain": [
       "[4, 8]"
      ]
     },
     "execution_count": 49,
     "metadata": {},
     "output_type": "execute_result"
    }
   ],
   "source": [
    " [index for index, char in enumerate(lst_or) if char == 9]"
>>>>>>> 6e180b305d62f82807f1ae5c40a65ad222ed7aa9
   ]
  },
  {
   "cell_type": "markdown",
   "id": "7dd21c18",
   "metadata": {},
   "source": [
<<<<<<< HEAD
    "##### 11. Remove all elements from a list?"
=======
    "Q. Remove all elements from a list?"
>>>>>>> 6e180b305d62f82807f1ae5c40a65ad222ed7aa9
   ]
  },
  {
   "cell_type": "code",
<<<<<<< HEAD
   "execution_count": 13,
   "id": "fc5beb0a",
   "metadata": {},
   "outputs": [
    {
     "name": "stdout",
     "output_type": "stream",
     "text": [
      "[1, 2, 3, 4, 5, 6, 7, 8, 9, 10]\n",
      "Length: 10\n",
      "[]\n"
     ]
    }
   ],
   "source": [
    "print(l)\n",
    "print(f'Length: {len(l)}')\n",
    "l.clear()\n",
    "print(l)"
=======
   "execution_count": 50,
   "id": "5175e018",
   "metadata": {},
   "outputs": [
    {
     "data": {
      "text/plain": [
       "[]"
      ]
     },
     "execution_count": 50,
     "metadata": {},
     "output_type": "execute_result"
    }
   ],
   "source": [
    "lst_or.clear()\n",
    "lst_or"
>>>>>>> 6e180b305d62f82807f1ae5c40a65ad222ed7aa9
   ]
  },
  {
   "cell_type": "markdown",
   "id": "5d553218",
   "metadata": {},
   "source": [
<<<<<<< HEAD
    "##### 12. Count the occurrence of a specific object in a list?"
=======
    "Q. Count the occurrence of a specific object in a list?"
>>>>>>> 6e180b305d62f82807f1ae5c40a65ad222ed7aa9
   ]
  },
  {
   "cell_type": "code",
<<<<<<< HEAD
   "execution_count": 27,
   "id": "1c4f810d",
   "metadata": {},
   "outputs": [
    {
     "name": "stdout",
     "output_type": "stream",
     "text": [
      "Given value is in 3 positions\n"
     ]
    }
   ],
   "source": [
    "#inp=int(input('Enter values between  1 to 10: ')) //taking input from user.\n",
    "inp=2\n",
    "l=[1,2,3,4,5,4,2,8,2,10]\n",
    "c=0\n",
    "for i in range(len(l)):\n",
    "    if inp==l[i]:\n",
    "        c=c+1\n",
    "print(f'Given value is in {c} positions')"
=======
   "execution_count": null,
   "id": "e77903ee",
   "metadata": {},
   "outputs": [],
   "source": [
    "# Explained below "
>>>>>>> 6e180b305d62f82807f1ae5c40a65ad222ed7aa9
   ]
  },
  {
   "cell_type": "markdown",
   "id": "d5f66920",
   "metadata": {},
   "source": [
<<<<<<< HEAD
    "##### 13. Return the length of a list?"
=======
    "Q. Return the length of a list?"
>>>>>>> 6e180b305d62f82807f1ae5c40a65ad222ed7aa9
   ]
  },
  {
   "cell_type": "code",
<<<<<<< HEAD
   "execution_count": 28,
   "id": "1eac5239",
   "metadata": {},
   "outputs": [
    {
     "name": "stdout",
     "output_type": "stream",
     "text": [
      "Length: 10\n"
     ]
    }
   ],
   "source": [
    "l=[1,2,3,4,5,4,2,8,2,10]\n",
    "print(f'Length: {len(l)}')"
=======
   "execution_count": 52,
   "id": "2437f46f",
   "metadata": {},
   "outputs": [
    {
     "data": {
      "text/plain": [
       "50000"
      ]
     },
     "execution_count": 52,
     "metadata": {},
     "output_type": "execute_result"
    }
   ],
   "source": [
    "len(lst)"
>>>>>>> 6e180b305d62f82807f1ae5c40a65ad222ed7aa9
   ]
  },
  {
   "cell_type": "markdown",
   "id": "60df95cf",
   "metadata": {},
   "source": [
<<<<<<< HEAD
    "##### 14. Reverse a list in Python \n",
    "   list1 = [100, 200, 300, 400, 500] --- >[500, 400, 300, 200, 100]"
   ]
  },
  {
   "cell_type": "code",
   "execution_count": 31,
   "id": "84daaeea",
   "metadata": {},
   "outputs": [
    {
     "name": "stdout",
     "output_type": "stream",
     "text": [
      "Reversed list: [500, 400, 300, 200, 100]\n"
     ]
    }
   ],
   "source": [
    "list1=[100,200,300,400,500]\n",
    "list1.reverse()\n",
    "print(f'Reversed list: {list1}')"
   ]
  },
  {
   "cell_type": "markdown",
   "id": "be435572",
   "metadata": {},
   "source": [
    "##### 15. Concatenate two lists index-wise \n",
=======
    "\n",
    "Q. Reverse a list in Python \n",
    "   list1 = [100, 200, 300, 400, 500] --- >[500, 400, 300, 200, 100]\n",
    "\n",
    "\n",
    "Q. Concatenate two lists index-wise \n",
>>>>>>> 6e180b305d62f82807f1ae5c40a65ad222ed7aa9
    "list1 = [\"M\", \"na\", \"i\", \"Ke\"]\n",
    "list2 = [\"y\", \"me\", \"s\", \"lly\"] --- >['My', 'name', 'is', 'Kelly']"
   ]
  },
  {
<<<<<<< HEAD
   "cell_type": "code",
   "execution_count": 32,
   "id": "4dfcf91d",
   "metadata": {},
   "outputs": [
    {
     "name": "stdout",
     "output_type": "stream",
     "text": [
      "['My', 'name', 'is', 'Kelly']\n"
     ]
    }
   ],
   "source": [
    "list1=['M','na','i','Ke']\n",
    "list2=['y','me','s','lly']\n",
    "list3=[]       \n",
    "for item in range(len(list1)):\n",
    "       list3.append(list1[item]+list2[item])\n",
    "print(list3)"
   ]
  },
  {
=======
>>>>>>> 6e180b305d62f82807f1ae5c40a65ad222ed7aa9
   "cell_type": "markdown",
   "id": "a7d10a4f",
   "metadata": {},
   "source": [
<<<<<<< HEAD
    "##### 16. Turn every item of a list into its square \n",
=======
    "\n",
    "Q. Turn every item of a list into its square \n",
>>>>>>> 6e180b305d62f82807f1ae5c40a65ad222ed7aa9
    "   numbers = [1, 2, 3, 4, 5, 6, 7] --- >[1, 4, 9, 16, 25, 36, 49]"
   ]
  },
  {
<<<<<<< HEAD
   "cell_type": "code",
   "execution_count": 33,
   "id": "5b901f02",
   "metadata": {},
   "outputs": [
    {
     "name": "stdout",
     "output_type": "stream",
     "text": [
      "[1, 4, 9, 16, 25, 36, 49]\n"
     ]
    }
   ],
   "source": [
    "list1=[1,2,3,4,5,6,7]\n",
    "slist=[]\n",
    "for item in list1:\n",
    "    slist.append(item**2)\n",
    "print(slist)"
   ]
  },
  {
=======
>>>>>>> 6e180b305d62f82807f1ae5c40a65ad222ed7aa9
   "cell_type": "markdown",
   "id": "675b56bb",
   "metadata": {},
   "source": [
<<<<<<< HEAD
    "##### 17. Concatenate two lists in the following order -- \n",
=======
    "\n",
    "Q. Concatenate two lists in the following order -- \n",
>>>>>>> 6e180b305d62f82807f1ae5c40a65ad222ed7aa9
    "list1 = [\"Hello \", \"take \"]\n",
    "list2 = [\"Dear\", \"Sir\"] ----- >['Hello Dear', 'Hello Sir', 'take Dear', 'take Sir']"
   ]
  },
  {
<<<<<<< HEAD
   "cell_type": "code",
   "execution_count": 34,
   "id": "112d45c6",
   "metadata": {},
   "outputs": [
    {
     "name": "stdout",
     "output_type": "stream",
     "text": [
      "['Hello Dear', 'Hello Sir', 'Take Dear', 'Take Sir']\n"
     ]
    }
   ],
   "source": [
    "list1=['Hello','Take']\n",
    "list2=['Dear','Sir']\n",
    "list3=[]\n",
    "for i in list1:\n",
    "    for j in list2:\n",
    "        list3.append(i+' '+j)\n",
    "print(list3)"
   ]
  },
  {
=======
>>>>>>> 6e180b305d62f82807f1ae5c40a65ad222ed7aa9
   "cell_type": "markdown",
   "id": "d70554fe",
   "metadata": {},
   "source": [
<<<<<<< HEAD
    "##### 18. Iterate both lists simultaneously\n",
=======
    "Q. Iterate both lists simultaneously\n",
>>>>>>> 6e180b305d62f82807f1ae5c40a65ad222ed7aa9
    "list1 = [10, 20, 30, 40]\n",
    "list2 = [100, 200, 300, 400] ---- >\n",
    "10 400\n",
    "20 300\n",
    "30 200\n",
    "40 100  "
   ]
  },
  {
<<<<<<< HEAD
   "cell_type": "code",
   "execution_count": 40,
   "id": "1dc0c0ad",
   "metadata": {},
   "outputs": [
    {
     "name": "stdout",
     "output_type": "stream",
     "text": [
      "[10, 400, 20, 300, 30, 200, 40, 100]\n"
     ]
    }
   ],
   "source": [
    "list1=[10,20,30,40]\n",
    "list2=[100,200,300,400]\n",
    "list3=[]\n",
    "for a,b in zip(list1,list2[::-1]):\n",
    "    list3.extend([a,b])\n",
    "print(list3)"
   ]
  },
  {
=======
>>>>>>> 6e180b305d62f82807f1ae5c40a65ad222ed7aa9
   "cell_type": "markdown",
   "id": "106cca12",
   "metadata": {},
   "source": [
<<<<<<< HEAD
    "##### 19. Remove empty strings from the list of strings\n",
=======
    "Q. Remove empty strings from the list of strings\n",
>>>>>>> 6e180b305d62f82807f1ae5c40a65ad222ed7aa9
    "list1 = [\"Mike\", \"\", \"Emma\", \"Kelly\", \"\", \"Brad\"] --- >[\"Mike\", \"Emma\", \"Kelly\", \"Brad\"]"
   ]
  },
  {
<<<<<<< HEAD
   "cell_type": "code",
   "execution_count": 36,
   "id": "e606d84e",
   "metadata": {},
   "outputs": [
    {
     "name": "stdout",
     "output_type": "stream",
     "text": [
      "['Mike', 'Emma', 'Kelly', 'Brad']\n"
     ]
    }
   ],
   "source": [
    "test_list = [\"Mike\",\"\", \"Emma\", \"\", \"Kelly\", \"Brad\", \"\"]\n",
    "test_list=[i for i in test_list if i!='']\n",
    "print(test_list)"
   ]
  },
  {
=======
>>>>>>> 6e180b305d62f82807f1ae5c40a65ad222ed7aa9
   "cell_type": "markdown",
   "id": "d9713ac8",
   "metadata": {},
   "source": [
<<<<<<< HEAD
    "##### 20. Add new item to list after a specified item --- >\n",
    "list1 = [10, 20, [300, 400, [5000, 6000], 500], 30, 40] --->[10, 20, [300, 400, [5000, 6000, 7000], 500], 30, 40]"
   ]
  },
  {
   "cell_type": "code",
   "execution_count": 37,
   "id": "68f6d87b",
   "metadata": {},
   "outputs": [
    {
     "name": "stdout",
     "output_type": "stream",
     "text": [
      "[10, 20, [300, 400, [5000, 6000, 7000], 500], 30, 40]\n"
     ]
    }
   ],
   "source": [
    "list1=[10,20,[300,400,[5000,6000],500],30,40]\n",
    "list1[2][2].append(7000)\n",
    "print(list1)"
=======
    "\n",
    "Q. Add new item to list after a specified item --- >\n",
    "list1 = [10, 20, [300, 400, [5000, 6000], 500], 30, 40] --->[10, 20, [300, 400, [5000, 6000, 7000], 500], 30, 40]\n"
>>>>>>> 6e180b305d62f82807f1ae5c40a65ad222ed7aa9
   ]
  },
  {
   "cell_type": "markdown",
   "id": "dda982e7",
   "metadata": {},
   "source": [
<<<<<<< HEAD
    "##### 21. Extend nested list by adding the sublist\n",
    "list1 = [\"a\", \"b\", [\"c\", [\"d\", \"e\", [\"f\", \"g\"], \"k\"], \"l\"], \"m\", \"n\"]\n",
    "sub list to add\n",
=======
    "Q. Extend nested list by adding the sublist\n",
    "list1 = [\"a\", \"b\", [\"c\", [\"d\", \"e\", [\"f\", \"g\"], \"k\"], \"l\"], \"m\", \"n\"]\n",
    "\n",
    "\n",
    "# sub list to add\n",
>>>>>>> 6e180b305d62f82807f1ae5c40a65ad222ed7aa9
    "sub_list = [\"h\", \"i\", \"j\"]\n",
    "\n",
    "---- > ['a', 'b', ['c', ['d', 'e', ['f', 'g', 'h', 'i', 'j'], 'k'], 'l'], 'm', 'n']\n"
   ]
  },
  {
<<<<<<< HEAD
   "cell_type": "code",
   "execution_count": 38,
   "id": "9a39d186",
   "metadata": {},
   "outputs": [
    {
     "name": "stdout",
     "output_type": "stream",
     "text": [
      "['a', 'b', ['c', ['d', 'e', ['f', 'g', 'h', 'i', 'j'], 'k'], 'l'], 'm', 'n']\n"
     ]
    }
   ],
   "source": [
    "list1 = [\"a\", \"b\", [\"c\", [\"d\", \"e\", [\"f\", \"g\"], \"k\"], \"l\"], \"m\", \"n\"]\n",
    "sub_list = [\"h\", \"i\", \"j\"]\n",
    "list1[2][1][2].extend(sub_list)\n",
    "print(list1)"
   ]
  },
  {
=======
>>>>>>> 6e180b305d62f82807f1ae5c40a65ad222ed7aa9
   "cell_type": "markdown",
   "id": "3f366363",
   "metadata": {},
   "source": [
<<<<<<< HEAD
    "##### 22.Replace list’s item with new value if found\n",
=======
    "Q.Replace list’s item with new value if found\n",
>>>>>>> 6e180b305d62f82807f1ae5c40a65ad222ed7aa9
    "list1 = [5, 10, 15, 20, 25, 50, 20] ---- >[5, 10, 15, 200, 25, 50, 20]\n"
   ]
  },
  {
   "cell_type": "code",
<<<<<<< HEAD
   "execution_count": 39,
   "id": "f7099bc2",
   "metadata": {},
   "outputs": [
    {
     "name": "stdout",
     "output_type": "stream",
     "text": [
      "[5, 10, 15, 200, 25, 50, 20]\n"
     ]
    }
   ],
   "source": [
    "list1 = [5, 10, 15, 20, 25, 50, 20]\n",
    "list1[list1.index(20)]=200\n",
    "print(list1)"
   ]
=======
   "execution_count": null,
   "id": "f7099bc2",
   "metadata": {},
   "outputs": [],
   "source": []
>>>>>>> 6e180b305d62f82807f1ae5c40a65ad222ed7aa9
  },
  {
   "cell_type": "code",
   "execution_count": null,
<<<<<<< HEAD
   "id": "3388f3c9",
=======
   "id": "44062b9d",
   "metadata": {},
   "outputs": [],
   "source": []
  },
  {
   "cell_type": "code",
   "execution_count": null,
   "id": "5479d7a5",
   "metadata": {},
   "outputs": [],
   "source": []
  },
  {
   "cell_type": "code",
   "execution_count": null,
   "id": "73dcb3d9",
>>>>>>> 6e180b305d62f82807f1ae5c40a65ad222ed7aa9
   "metadata": {},
   "outputs": [],
   "source": []
  }
 ],
 "metadata": {
  "kernelspec": {
<<<<<<< HEAD
   "display_name": "Python 3",
=======
   "display_name": "Python 3 (ipykernel)",
>>>>>>> 6e180b305d62f82807f1ae5c40a65ad222ed7aa9
   "language": "python",
   "name": "python3"
  },
  "language_info": {
   "codemirror_mode": {
    "name": "ipython",
    "version": 3
   },
   "file_extension": ".py",
   "mimetype": "text/x-python",
   "name": "python",
   "nbconvert_exporter": "python",
   "pygments_lexer": "ipython3",
<<<<<<< HEAD
   "version": "3.8.8"
=======
   "version": "3.9.6"
>>>>>>> 6e180b305d62f82807f1ae5c40a65ad222ed7aa9
  }
 },
 "nbformat": 4,
 "nbformat_minor": 5
}
