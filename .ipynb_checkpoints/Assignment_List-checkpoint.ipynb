{
 "cells": [
  {
   "cell_type": "markdown",
   "id": "97c99978",
   "metadata": {},
   "source": [
    "Q. Indexing and Negative Indexing (How can You reverse a string through indexing?)"
   ]
  },
  {
   "cell_type": "code",
   "execution_count": 5,
   "id": "f77def5d",
   "metadata": {},
   "outputs": [
    {
     "name": "stdout",
     "output_type": "stream",
     "text": [
      "welcome to python\n",
      "nohtyp ot emoclew\n"
     ]
    }
   ],
   "source": [
    "#glf\n",
    "\n",
    "a = 'welcome to python'\n",
    "type(a)\n",
    "\n",
    "#a> indexing \n",
    "a[0:8:2]\n",
    "print(a)\n",
    "\n",
    "# Negative indexing\n",
    "b = a[::-1]\n",
    "\n",
    "print(b)\n"
   ]
  },
  {
   "cell_type": "markdown",
   "id": "ee5feec9",
   "metadata": {},
   "source": [
    "Q. example given the string \"Welcome to the danger zone\" should become \"zone danger the to Welcome\" and not enoz regnad eht ot emocleW\n"
   ]
  },
  {
   "cell_type": "code",
   "execution_count": 6,
   "id": "b8474185",
   "metadata": {},
   "outputs": [
    {
     "name": "stdout",
     "output_type": "stream",
     "text": [
      "['Welcome', 'to', 'danger', 'zone']\n",
      "['zone', 'danger', 'to', 'Welcome']\n",
      "zone danger to Welcome\n"
     ]
    }
   ],
   "source": [
    "str = \"Welcome to danger zone\"\n",
    "str1=str.split(\" \")\n",
    "print(str1)\n",
    "str1 = str1[-1::-1]\n",
    "print(str1)\n",
    "\n",
    "str3 = ' '.join(str1)\n",
    "print(str3)"
   ]
  },
  {
   "cell_type": "markdown",
   "id": "79a8379e",
   "metadata": {},
   "source": [
    "Q. You are given a string input, let's say \"Hello World!\". Your output should be, how many times each character is showing up in the string. So, in this example, it should write:\n",
    "\n",
    "H: 1 e: 1 l: 3 o: 2"
   ]
  },
  {
   "cell_type": "code",
   "execution_count": 7,
   "id": "6f00c30c",
   "metadata": {},
   "outputs": [
    {
     "name": "stdout",
     "output_type": "stream",
     "text": [
      "H: 1 e: 1 l: 3 o: 2  : 1 W: 1 r: 1 d: 1 "
     ]
    }
   ],
   "source": [
    "str = \"Hello World\"\n",
    "str1={}\n",
    "for a in str:\n",
    "    if a not in str1:\n",
    "        str1.update({a:str.count(a)})\n",
    "        print(f'{a}: {str.count(a)}',end = ' ')\n"
   ]
  },
  {
   "cell_type": "markdown",
   "id": "0b5db718",
   "metadata": {},
   "source": [
    "Q. What is difference between python scripts and Modules?"
   ]
  },
  {
   "cell_type": "code",
   "execution_count": null,
   "id": "acd2444a",
   "metadata": {},
   "outputs": [],
   "source": [
    "> Programmers use to write a code in files called Scripts.\n",
    ">and it is directly executable pieace of code,it will rubby itself.\n",
    "\n",
    ">A Module is a library imported by others.\n",
    ">An import statement will be used to import with dot notation.\n",
    "ex: print(math.pi)"
   ]
  },
  {
   "cell_type": "markdown",
   "id": "ceb9ee6c",
   "metadata": {},
   "source": [
    "Q. What is the difference between lists and tuples? Which is faster, which is more size ..etc?"
   ]
  },
  {
   "cell_type": "code",
   "execution_count": null,
   "id": "8b50dae6",
   "metadata": {},
   "outputs": [],
   "source": [
    "#TUPLES:\n",
    ">Tuple is one of the data structure and it will have ordered list of items where we can't change.\n",
    ">Hence we call it as \"Immutable\" \n",
    ">below is the example how to declare tuple\n",
    "tp = (1,2,3)\n",
    ">Tuple has less merory than List. as the Tuple is immutable it will have static memory (no need of extra memory)\n",
    ">Also tuple is faster than List\n",
    "> Indexing speed of a Tuple is faster than List.\n",
    "\n",
    "#LIST:\n",
    "\n",
    ">We can change(adding,deletion..) the list values ruring run time.\n",
    ">Hence we call it as \"Mutable\"\n",
    ">below is the example how to declare LIST.\n",
    "ls = [1,2,3]\n",
    ">List occupies more memory than Tuple.\n",
    ">Slower than Tuple\n",
    ">timeit method can be used ti find the speed of tuple nad list\n"
   ]
  },
  {
   "cell_type": "markdown",
   "id": "8b568f4d",
   "metadata": {},
   "source": [
    "Q. List append and extend method difference?"
   ]
  },
  {
   "cell_type": "code",
   "execution_count": 15,
   "id": "e28437a4",
   "metadata": {},
   "outputs": [
    {
     "name": "stdout",
     "output_type": "stream",
     "text": [
      "[1, 2, 3, 4, [7, 8, 9]]\n",
      "[1, 2, 3, 4, 9, 6, 7]\n"
     ]
    }
   ],
   "source": [
    "#append() method\n",
    "\n",
    "#>This methid is is used to add new data to the existing list at the end.\n",
    "#>append() method will accept the single data as parameter.\n",
    "#ex:\n",
    "my_list = [1,2,3,4]\n",
    "my_list.append([7,8,9])\n",
    "print(my_list)\n",
    "\n",
    "#extend()\n",
    "my_list1 = [1,2,3,4]\n",
    "my_list1.extend([9,6,7])\n",
    "print(my_list1)"
   ]
  },
  {
   "cell_type": "markdown",
   "id": "fca842c4",
   "metadata": {},
   "source": [
    "Q. Remove, pop and delete method difference on list?"
   ]
  },
  {
   "cell_type": "code",
   "execution_count": null,
   "id": "48d3dba6",
   "metadata": {},
   "outputs": [],
   "source": [
    ">In Python remove() and pop() are built in methods where as del ia keyword.\n",
    "> remove() method delete values or object from the list using value\n",
    "> and del and pop() deletes values or object from the list using an index.\n",
    "> del ex:\n",
    "    \n",
    "    num = [1,2,3,4,5,6]\n",
    "    del num[4] ---------> delete 4th index value (5)\n",
    "    del num[-1]---------> delete last element in the list\n",
    "    del num\n",
    "    \n",
    " remove(): remove the first matching value from the list\n",
    "    \n",
    "    num1 = [1,2,3,4,3,6,1]\n",
    "    num1.remove(2)------->print[1,3,4,3,6,1]\n",
    "    \n",
    " POP(): returns the deleted value from the list\n",
    "    \n",
    "    num = [1,2,3,4,5,2]\n",
    "    num.pop(2)----> print 2\n",
    "    \n",
    "     "
   ]
  },
  {
   "cell_type": "markdown",
   "id": "cc4d97aa",
   "metadata": {},
   "source": [
    "Q. Check if a list contains an element"
   ]
  },
  {
   "cell_type": "code",
   "execution_count": 13,
   "id": "22888b2b",
   "metadata": {},
   "outputs": [
    {
     "name": "stdout",
     "output_type": "stream",
     "text": [
      "object hello is avilable\n"
     ]
    }
   ],
   "source": [
    "lst = [\"hi\",\"hello\",\"yes\",\"no\"]\n",
    "if \"hello\" in lst:\n",
    "    print(\"object hello is avilable\")\n",
    "else:\n",
    "    print(\"object hello is not avalable\")"
   ]
  },
  {
   "cell_type": "markdown",
   "id": "5f2a6762",
   "metadata": {},
   "source": [
    "Q. What does “del” do?"
   ]
  },
  {
   "cell_type": "code",
   "execution_count": null,
   "id": "b5007b56",
   "metadata": {},
   "outputs": [],
   "source": [
    "#del is a keyword to delelete either specified item with index value or entire data of object."
   ]
  },
  {
   "cell_type": "markdown",
   "id": "b2527eb7",
   "metadata": {},
   "source": [
    "Q. Find the index of the 1st matching element?"
   ]
  },
  {
   "cell_type": "code",
   "execution_count": 16,
   "id": "b267d5be",
   "metadata": {},
   "outputs": [
    {
     "name": "stdout",
     "output_type": "stream",
     "text": [
      "3\n"
     ]
    }
   ],
   "source": [
    "num = 4\n",
    "lst = [1,2,3,4,6,8]\n",
    "print(lst.index(4))"
   ]
  },
  {
   "cell_type": "markdown",
   "id": "7dd21c18",
   "metadata": {},
   "source": [
    "Q. Remove all elements from a list?"
   ]
  },
  {
   "cell_type": "code",
   "execution_count": 18,
   "id": "5d8d5ab6",
   "metadata": {},
   "outputs": [
    {
     "name": "stdout",
     "output_type": "stream",
     "text": [
      "[]\n"
     ]
    }
   ],
   "source": [
    "lst = [1,2,3,4,5,6]\n",
    "lst.clear()\n",
    "print(lst)"
   ]
  },
  {
   "cell_type": "markdown",
   "id": "aa0701ea",
   "metadata": {},
   "source": [
    "Q. Remove all elements from a list"
   ]
  },
  {
   "cell_type": "markdown",
   "id": "5d553218",
   "metadata": {},
   "source": [
    "Q. Count the occurrence of a specific object in a list?"
   ]
  },
  {
   "cell_type": "code",
   "execution_count": 31,
   "id": "0a5a992d",
   "metadata": {},
   "outputs": [
    {
     "name": "stdout",
     "output_type": "stream",
     "text": [
      "3\n",
      "Found the value 5 in 4 positions\n"
     ]
    }
   ],
   "source": [
    "#using count\n",
    "lst = [1,2,3,4,2,6,2,7]\n",
    "occurance =lst.count(2)\n",
    "print(occurance)\n",
    " \n",
    "# using loop\n",
    "input=5\n",
    "lst=[1,2,5,4,5,4,5,8,5,10]\n",
    "a=0\n",
    "for elm in range(len(lst)):\n",
    "    if input==lst[elm]:\n",
    "        a=a+1\n",
    "print(f'Found the value {input} in {a} positions')\n",
    "    "
   ]
  },
  {
   "cell_type": "markdown",
   "id": "589c4051",
   "metadata": {},
   "source": [
    "Q. Count the occurrence of a specific object in a list"
   ]
  },
  {
   "cell_type": "markdown",
   "id": "d5f66920",
   "metadata": {},
   "source": [
    "Q. Return the length of a list?"
   ]
  },
  {
   "cell_type": "code",
   "execution_count": 24,
   "id": "5c26607d",
   "metadata": {},
   "outputs": [
    {
     "name": "stdout",
     "output_type": "stream",
     "text": [
      "5\n"
     ]
    }
   ],
   "source": [
    "lst = [1,23,45,67,90]\n",
    "print(len(lst))"
   ]
  },
  {
   "cell_type": "markdown",
   "id": "60df95cf",
   "metadata": {},
   "source": [
    "\n",
    "Q. Reverse a list in Python \n",
    "   list1 = [100, 200, 300, 400, 500] --- >[500, 400, 300, 200, 100]\n",
    "\n",
    "\n",
    "Q. Concatenate two lists index-wise \n",
    "list1 = [\"M\", \"na\", \"i\", \"Ke\"]\n",
    "list2 = [\"y\", \"me\", \"s\", \"lly\"] --- >['My', 'name', 'is', 'Kelly']"
   ]
  },
  {
   "cell_type": "code",
   "execution_count": 34,
   "id": "3ebc0e31",
   "metadata": {},
   "outputs": [
    {
     "name": "stdout",
     "output_type": "stream",
     "text": [
      "[500, 400, 300, 200, 100]\n",
      "['My', 'name', 'is', 'kelly']\n"
     ]
    }
   ],
   "source": [
    "#reverse of a list\n",
    "\n",
    "lst1=[100,200,300,400,500]\n",
    "print(lst1[::-1])\n",
    "\n",
    "#concatenate\n",
    "\n",
    "lst1 = [\"M\",\"na\",\"i\",\"ke\"]\n",
    "lst2 = ['y','me','s','lly']\n",
    "res = [i + j for i, j in zip(lst1,lst2)]\n",
    "print(res)"
   ]
  },
  {
   "cell_type": "markdown",
   "id": "a7d10a4f",
   "metadata": {},
   "source": [
    "\n",
    "Q. Turn every item of a list into its square \n",
    "   numbers = [1, 2, 3, 4, 5, 6, 7] --- >[1, 4, 9, 16, 25, 36, 49]"
   ]
  },
  {
   "cell_type": "code",
   "execution_count": null,
   "id": "e1ca8805",
   "metadata": {},
   "outputs": [],
   "source": [
    "lst = [1,2,3,4,5,6,7]\n",
    "list1=[]\n",
    "for item in lst:\n",
    "     list1.append(item**2)\n",
    "print(list1)"
   ]
  },
  {
   "cell_type": "markdown",
   "id": "675b56bb",
   "metadata": {},
   "source": [
    "\n",
    "Q. Concatenate two lists in the following order -- \n",
    "list1 = [\"Hello \", \"take \"]\n",
    "list2 = [\"Dear\", \"Sir\"] ----- >['Hello Dear', 'Hello Sir', 'take Dear', 'take Sir']"
   ]
  },
  {
   "cell_type": "code",
   "execution_count": null,
   "id": "f2c4104d",
   "metadata": {},
   "outputs": [],
   "source": [
    "lst1=['Hello','Take']\n",
    "lst2=['Dear','Sir']\n",
    "lst3=[]\n",
    "for i in lst1:\n",
    "    for j in lst2:\n",
    "        lst3.append(i+' '+j)\n",
    "print(lst3)"
   ]
  },
  {
   "cell_type": "markdown",
   "id": "d70554fe",
   "metadata": {},
   "source": [
    "Q. Iterate both lists simultaneously\n",
    "list1 = [10, 20, 30, 40]\n",
    "list2 = [100, 200, 300, 400] ---- >\n",
    "10 400\n",
    "20 300\n",
    "30 200\n",
    "40 100  "
   ]
  },
  {
   "cell_type": "code",
   "execution_count": null,
   "id": "72ce1e95",
   "metadata": {},
   "outputs": [],
   "source": [
    "lst1=[10,20,30,40]\n",
    "lst2=[100,200,300,400]\n",
    "lst3=[]\n",
    "for a,b in zip(lst1,lst2[::-1]):\n",
    "    lst3.extend([a,b])\n",
    "    print(list3)\n",
    "        "
   ]
  },
  {
   "cell_type": "markdown",
   "id": "106cca12",
   "metadata": {},
   "source": [
    "Q. Remove empty strings from the list of strings\n",
    "list1 = [\"Mike\", \"\", \"Emma\", \"Kelly\", \"\", \"Brad\"] --- >[\"Mike\", \"Emma\", \"Kelly\", \"Brad\"]"
   ]
  },
  {
   "cell_type": "code",
   "execution_count": null,
   "id": "0d913ed8",
   "metadata": {},
   "outputs": [],
   "source": [
    "lst = [\"Mike\",\"\",\"Emma\",\"Kelly\",\"\",\"Nrad\"]\n",
    "lst1=[i for i in lst if i!='']\n",
    "print(lst1)\n"
   ]
  },
  {
   "cell_type": "markdown",
   "id": "98bb1ab6",
   "metadata": {},
   "source": [
    "\n",
    "Q. Add new item to list after a specified item --- >\n",
    "list1 = [10, 20, [300, 400, [5000, 6000], 500], 30, 40] --->[10, 20, [300, 400, [5000, 6000, 7000], 500], 30, 40]\n"
   ]
  },
  {
   "cell_type": "code",
   "execution_count": null,
   "id": "c1df865c",
   "metadata": {},
   "outputs": [],
   "source": [
    "lst = [10,20[300,400,[5000,6000],500],30,40]\n",
    "lst[2][2].append(7000)\n",
    "print(lst)"
   ]
  },
  {
   "cell_type": "markdown",
   "id": "dda982e7",
   "metadata": {},
   "source": [
    "Q. Extend nested list by adding the sublist\n",
    "list1 = [\"a\", \"b\", [\"c\", [\"d\", \"e\", [\"f\", \"g\"], \"k\"], \"l\"], \"m\", \"n\"]\n",
    "\n",
    "\n",
    "# sub list to add\n",
    "sub_list = [\"h\", \"i\", \"j\"]\n",
    "\n",
    "---- > ['a', 'b', ['c', ['d', 'e', ['f', 'g', 'h', 'i', 'j'], 'k'], 'l'], 'm', 'n']\n"
   ]
  },
  {
   "cell_type": "code",
   "execution_count": null,
   "id": "f2765b32",
   "metadata": {},
   "outputs": [],
   "source": [
    "lst =  [\"a\", \"b\", [\"c\", [\"d\", \"e\", [\"f\", \"g\"], \"k\"], \"l\"], \"m\", \"n\"]\n",
    "sub_lst =['h','i','j']\n",
    "lst[2][1][2].append(su_lst)\n",
    "print(lst)"
   ]
  },
  {
   "cell_type": "markdown",
   "id": "3f366363",
   "metadata": {},
   "source": [
    "Q.Replace list’s item with new value if found\n",
    "list1 = [5, 10, 15, 20, 25, 50, 20] ---- >[5, 10, 15, 200, 25, 50, 20]\n"
   ]
  },
  {
   "cell_type": "code",
   "execution_count": null,
   "id": "f7099bc2",
   "metadata": {},
   "outputs": [],
   "source": [
    "lst=[5,10,15,20,25,50,20]\n",
    "lst[lst.index(20)]=200\n",
    "print(lst)"
   ]
  },
  {
   "cell_type": "code",
   "execution_count": null,
   "id": "44062b9d",
   "metadata": {},
   "outputs": [],
   "source": []
  },
  {
   "cell_type": "code",
   "execution_count": null,
   "id": "5479d7a5",
   "metadata": {},
   "outputs": [],
   "source": []
  },
  {
   "cell_type": "code",
   "execution_count": null,
   "id": "73dcb3d9",
   "metadata": {},
   "outputs": [],
   "source": []
  },
  {
   "cell_type": "code",
   "execution_count": null,
   "id": "1df3fd9d",
   "metadata": {},
   "outputs": [],
   "source": []
  },
  {
   "cell_type": "code",
   "execution_count": null,
   "id": "5f4c9ee1",
   "metadata": {},
   "outputs": [],
   "source": []
  },
  {
   "cell_type": "code",
   "execution_count": null,
   "id": "471ac567",
   "metadata": {},
   "outputs": [],
   "source": []
  },
  {
   "cell_type": "code",
   "execution_count": null,
   "id": "5196a973",
   "metadata": {},
   "outputs": [],
   "source": []
  },
  {
   "cell_type": "code",
   "execution_count": null,
   "id": "c1e9ea65",
   "metadata": {},
   "outputs": [],
   "source": []
  }
 ],
 "metadata": {
  "kernelspec": {
   "display_name": "Python 3 (ipykernel)",
   "language": "python",
   "name": "python3"
  },
  "language_info": {
   "codemirror_mode": {
    "name": "ipython",
    "version": 3
   },
   "file_extension": ".py",
   "mimetype": "text/x-python",
   "name": "python",
   "nbconvert_exporter": "python",
   "pygments_lexer": "ipython3",
   "version": "3.9.9"
  }
 },
 "nbformat": 4,
 "nbformat_minor": 5
}
