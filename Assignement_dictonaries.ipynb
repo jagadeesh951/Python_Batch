{
 "cells": [
  {
   "cell_type": "markdown",
   "id": "48e925e6",
   "metadata": {},
   "source": [
    "Q. Convert snake case into Camel case and vice versa\n",
    "   inp = \"is_valid_number\" --->isValidNumber\n",
    "   "
   ]
  },
  {
   "cell_type": "code",
   "execution_count": 6,
   "id": "de4d1300",
   "metadata": {},
   "outputs": [],
   "source": [
    " \n",
    "def convert_to_camelcase(inp):\n",
    "    lst=inp.split(\"_\")\n",
    "    lst=[x.title() for x in lst]\n",
    "    str_1=\"\".join(lst)\n",
    "    print(str_1)\n",
    "\n",
    "\n",
    "def convert_to_snakecase(str_1):\n",
    "    for i in str_1:\n",
    "        if i.isupper():\n",
    "           str_1=str_1.replace(i,f\"_{i}\")\n",
    "    print(str_1.lower(), end=\" \")\n",
    "    "
   ]
  },
  {
   "cell_type": "code",
   "execution_count": 7,
   "id": "884cec00",
   "metadata": {},
   "outputs": [
    {
     "name": "stdout",
     "output_type": "stream",
     "text": [
      "IsValidNumber\n",
      "is_valid_number "
     ]
    }
   ],
   "source": [
    "convert_to_camelcase(\"is_valid_number\") #isValidNumber\n",
    "convert_to_snakecase(\"isValidNumber\")   #is_valid_number"
   ]
  },
  {
   "cell_type": "markdown",
   "id": "56ae7dd3",
   "metadata": {},
   "source": [
    "Q. \"\"\"ABCDE --- Move 2 positions cyclic (Use Mod to length of string if Cyclic position is greater than length)\n",
    "      Now result is ---CDEAB\n",
    "      input : ABCDE\n",
    "      output: CDEAB  \n",
    "    \"\"\""
   ]
  },
  {
   "cell_type": "markdown",
   "id": "4ff03d86",
   "metadata": {},
   "source": [
    "Q. group the elements like below \n",
    " \n",
    " input : ['abt','bta','tab','bar','dsksllkd','tba']\n",
    " \n",
    " output : [['abt', 'bta', 'tab', 'tba'], ['bar'], ['dsksllkd']]        "
   ]
  },
  {
   "cell_type": "markdown",
   "id": "ede4f456",
   "metadata": {},
   "source": [
    "Q. Shift all zeroes to last\n",
    "\n",
    "lst = [1,0,1,0,0,1,1,0]"
   ]
  },
  {
   "cell_type": "markdown",
   "id": "e6ce7fe3",
   "metadata": {},
   "source": [
    "Q. \"\"\"AAAABBBCCDDDD you have to print it as 4A3B2C4D\"\"\""
   ]
  },
  {
   "cell_type": "code",
   "execution_count": 12,
   "id": "313336c2",
   "metadata": {},
   "outputs": [
    {
     "name": "stdout",
     "output_type": "stream",
     "text": [
      "4A3B2C4D\n"
     ]
    }
   ],
   "source": [
    "str_1=\"AAAABBBCCDDDD\"\n",
    "# 4A3B2C4D\n",
    "dict_1={ }\n",
    "output=\"\"\n",
    "for i in str_1:\n",
    "    dict_1.update({i:str_1.count(i)})\n",
    "for key,value in dict_1.items():\n",
    "    output= f\"{output}{value}{key}\"\n",
    "print(output)\n"
   ]
  },
  {
   "cell_type": "markdown",
   "id": "1de691d2",
   "metadata": {},
   "source": [
    "Q. example given the string \"Welcome to the danger zone\" should become \"zone danger the to Welcome\" and not enoz regnad eht ot emocleW\n"
   ]
  },
  {
   "cell_type": "code",
   "execution_count": 8,
   "id": "172ae60a",
   "metadata": {},
   "outputs": [
    {
     "name": "stdout",
     "output_type": "stream",
     "text": [
      "Welcome to the danger zone\n"
     ]
    }
   ],
   "source": [
    "str_1=\"Welcome to the danger zone\"\n",
    "# zone danger the to Welcome\n",
    "lst=str.split(\" \")\n",
    "str_1=\" \".join(lst[::-1])\n",
    "print(str_1)   "
   ]
  },
  {
   "cell_type": "markdown",
   "id": "c65c4dee",
   "metadata": {},
   "source": [
    "Q. You are given a string input, let's say \"Hello World!\". Your output should be, how many times each character is showing up in the string. So, in this example, it should write:\n",
    "\n",
    "H: 1 e: 1 l: 3 o: 2\n"
   ]
  },
  {
   "cell_type": "code",
   "execution_count": 7,
   "id": "7949b7c2",
   "metadata": {},
   "outputs": [
    {
     "name": "stdout",
     "output_type": "stream",
     "text": [
      "HelloWorld!\n",
      "{'H': 1, 'e': 1, 'l': 3, 'o': 2, 'W': 1, 'r': 1, 'd': 1, '!': 1}\n"
     ]
    }
   ],
   "source": [
    "str_1=\"Hello World!\"\n",
    "dict_1={ }\n",
    "str_1= str_1.replace(\" \",\"\")\n",
    "print(str_1)\n",
    "for i in str_1:\n",
    "    dict_1.update({i:str_1.count(i)})\n",
    "print(dict_1)\n",
    "\n"
   ]
  }
 ],
 "metadata": {
  "kernelspec": {
   "display_name": "Python 3 (ipykernel)",
   "language": "python",
   "name": "python3"
  },
  "language_info": {
   "codemirror_mode": {
    "name": "ipython",
    "version": 3
   },
   "file_extension": ".py",
   "mimetype": "text/x-python",
   "name": "python",
   "nbconvert_exporter": "python",
   "pygments_lexer": "ipython3",
   "version": "3.9.0"
  }
 },
 "nbformat": 4,
 "nbformat_minor": 5
}
