{
 "cells": [
  {
   "cell_type": "markdown",
<<<<<<< HEAD
   "id": "2ab5be7e",
   "metadata": {},
   "source": [
    "## Dictionaries Assignment"
   ]
  },
  {
   "cell_type": "markdown",
   "id": "48e925e6",
   "metadata": {},
   "source": [
    "##### 1. Convert snake case into Camel case and vice versa\n",
=======
   "id": "48e925e6",
   "metadata": {},
   "source": [
    "Q. Convert snake case into Camel case and vice versa\n",
>>>>>>> 6e180b305d62f82807f1ae5c40a65ad222ed7aa9
    "   inp = \"is_valid_number\" --->isValidNumber"
   ]
  },
  {
<<<<<<< HEAD
   "cell_type": "code",
   "execution_count": 1,
   "id": "40d76121",
   "metadata": {},
   "outputs": [
    {
     "name": "stdout",
     "output_type": "stream",
     "text": [
      "isValidNumber\n"
     ]
    }
   ],
   "source": [
    "inp = \"is_valid_number\"\n",
    "inp=inp.split('_')\n",
    "op=''\n",
    "for i in range(len(inp)):\n",
    "    if i!=0:\n",
    "        op=op+inp[i].title()\n",
    "    else:\n",
    "        op=op+inp[i]\n",
    "print(op)"
   ]
  },
  {
=======
>>>>>>> 6e180b305d62f82807f1ae5c40a65ad222ed7aa9
   "cell_type": "markdown",
   "id": "56ae7dd3",
   "metadata": {},
   "source": [
<<<<<<< HEAD
    "##### 2. \"\"\"ABCDE --- Move 2 positions cyclic (Use Mod to length of string if Cyclic position is greater than length)\n",
=======
    "Q. \"\"\"ABCDE --- Move 2 positions cyclic (Use Mod to length of string if Cyclic position is greater than length)\n",
>>>>>>> 6e180b305d62f82807f1ae5c40a65ad222ed7aa9
    "      Now result is ---CDEAB\n",
    "      input : ABCDE\n",
    "      output: CDEAB  \n",
    "    \"\"\""
   ]
  },
  {
<<<<<<< HEAD
   "cell_type": "code",
   "execution_count": 2,
   "id": "e143dc77",
   "metadata": {},
   "outputs": [
    {
     "name": "stdout",
     "output_type": "stream",
     "text": [
      "CDEAB\n"
     ]
    }
   ],
   "source": [
    "inp='ABCDE'\n",
    "opt=inp[2:]+inp[:2]\n",
    "print(opt)"
   ]
  },
  {
=======
>>>>>>> 6e180b305d62f82807f1ae5c40a65ad222ed7aa9
   "cell_type": "markdown",
   "id": "4ff03d86",
   "metadata": {},
   "source": [
<<<<<<< HEAD
    "##### 3. group the elements like below \n",
=======
    "Q. group the elements like below \n",
>>>>>>> 6e180b305d62f82807f1ae5c40a65ad222ed7aa9
    " \n",
    " input : ['abt','bta','tab','bar','dsksllkd','tba']\n",
    " \n",
    " output : [['abt', 'bta', 'tab', 'tba'], ['bar'], ['dsksllkd']]        "
   ]
  },
  {
<<<<<<< HEAD
   "cell_type": "code",
   "execution_count": 3,
   "id": "860c1450",
   "metadata": {},
   "outputs": [
    {
     "name": "stdout",
     "output_type": "stream",
     "text": [
      "[['abt', 'bta', 'tab', 'tba'], ['bar'], ['dsksllkd']]\n"
     ]
    }
   ],
   "source": [
    "inp = ['abt','bta','tab','bar','dsksllkd','tba']\n",
    "opt=[inp[:3]+[(inp[-1])]]\n",
    "opt.append([inp[3]])\n",
    "opt.append([inp[-2]])\n",
    "print(opt)"
   ]
  },
  {
=======
>>>>>>> 6e180b305d62f82807f1ae5c40a65ad222ed7aa9
   "cell_type": "markdown",
   "id": "ede4f456",
   "metadata": {},
   "source": [
<<<<<<< HEAD
    "##### 4. Shift all zeroes to last\n",
=======
    "Q. Shift all zeroes to last\n",
>>>>>>> 6e180b305d62f82807f1ae5c40a65ad222ed7aa9
    "\n",
    "lst = [1,0,1,0,0,1,1,0]"
   ]
  },
  {
<<<<<<< HEAD
   "cell_type": "code",
   "execution_count": 4,
   "id": "3483a7c4",
   "metadata": {},
   "outputs": [
    {
     "name": "stdout",
     "output_type": "stream",
     "text": [
      "[1, 1, 1, 1, 0, 0, 0, 0]\n"
     ]
    }
   ],
   "source": [
    "lst=[1,0,1,0,0,1,1,0]\n",
    "lst.sort()\n",
    "lst.reverse()\n",
    "print(lst)"
   ]
  },
  {
=======
>>>>>>> 6e180b305d62f82807f1ae5c40a65ad222ed7aa9
   "cell_type": "markdown",
   "id": "e6ce7fe3",
   "metadata": {},
   "source": [
<<<<<<< HEAD
    "##### 5. \"\"\"AAAABBBCCDDDD you have to print it as 4A3B2C4D\"\"\""
   ]
  },
  {
   "cell_type": "code",
   "execution_count": 5,
   "id": "f9927cb6",
   "metadata": {},
   "outputs": [
    {
     "name": "stdout",
     "output_type": "stream",
     "text": [
      "4A3B2C4D"
     ]
    }
   ],
   "source": [
    "inp='AAAABBBCCDDDD'\n",
    "op={}\n",
    "for i in inp:\n",
    "    if i not in op.values():\n",
    "        op.update({i:inp.count(i)})\n",
    "    else:\n",
    "        continue\n",
    "for k,v in op.items():\n",
    "    print(f'{v}{k}',end='')"
=======
    "Q. \"\"\"AAAABBBCCDDDD you have to print it as 4A3B2C4D\"\"\""
>>>>>>> 6e180b305d62f82807f1ae5c40a65ad222ed7aa9
   ]
  },
  {
   "cell_type": "markdown",
   "id": "1de691d2",
   "metadata": {},
   "source": [
<<<<<<< HEAD
    "##### 6. example given the string \"Welcome to the danger zone\" should become \"zone danger the to Welcome\" and not enoz regnad eht ot emocleW"
   ]
  },
  {
   "cell_type": "code",
   "execution_count": 6,
   "id": "dcb58f54",
   "metadata": {},
   "outputs": [
    {
     "name": "stdout",
     "output_type": "stream",
     "text": [
      "zone danger the to Welcome "
     ]
    }
   ],
   "source": [
    "s='Welcome to the danger zone'\n",
    "for i in s.split()[::-1]:\n",
    "    print(f'{i}',end=' ')"
=======
    "Q. example given the string \"Welcome to the danger zone\" should become \"zone danger the to Welcome\" and not enoz regnad eht ot emocleW"
>>>>>>> 6e180b305d62f82807f1ae5c40a65ad222ed7aa9
   ]
  },
  {
   "cell_type": "markdown",
   "id": "c65c4dee",
   "metadata": {},
   "source": [
<<<<<<< HEAD
    "##### 7. You are given a string input, let's say \"Hello World!\". Your output should be, how many times each character is showing up in the string. So, in this example, it should write:\n",
=======
    "Q. You are given a string input, let's say \"Hello World!\". Your output should be, how many times each character is showing up in the string. So, in this example, it should write:\n",
>>>>>>> 6e180b305d62f82807f1ae5c40a65ad222ed7aa9
    "\n",
    "H: 1 e: 1 l: 3 o: 2"
   ]
  },
  {
   "cell_type": "code",
<<<<<<< HEAD
   "execution_count": 7,
   "id": "7116fea9",
   "metadata": {},
   "outputs": [
    {
     "name": "stdout",
     "output_type": "stream",
     "text": [
      "H:1 e:1 l:3 o:2 W:1 r:1 d:1 "
     ]
    }
   ],
   "source": [
    "s='Hello World'\n",
    "so={}\n",
    "c=0\n",
    "for i in s:\n",
    "    if i not in so and i!=' ':\n",
    "        so.update({i:s.count(i)})\n",
    "        print(f'{i}:{s.count(i)}',end=' ')"
   ]
  },
  {
   "cell_type": "code",
   "execution_count": null,
   "id": "5af0ee48",
=======
   "execution_count": null,
   "id": "7949b7c2",
>>>>>>> 6e180b305d62f82807f1ae5c40a65ad222ed7aa9
   "metadata": {},
   "outputs": [],
   "source": []
  }
 ],
 "metadata": {
  "kernelspec": {
<<<<<<< HEAD
   "display_name": "Python 3",
=======
   "display_name": "Python 3 (ipykernel)",
>>>>>>> 6e180b305d62f82807f1ae5c40a65ad222ed7aa9
   "language": "python",
   "name": "python3"
  },
  "language_info": {
   "codemirror_mode": {
    "name": "ipython",
    "version": 3
   },
   "file_extension": ".py",
   "mimetype": "text/x-python",
   "name": "python",
   "nbconvert_exporter": "python",
   "pygments_lexer": "ipython3",
<<<<<<< HEAD
   "version": "3.8.8"
=======
   "version": "3.9.6"
>>>>>>> 6e180b305d62f82807f1ae5c40a65ad222ed7aa9
  }
 },
 "nbformat": 4,
 "nbformat_minor": 5
}
