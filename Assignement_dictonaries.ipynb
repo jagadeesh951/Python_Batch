{
 "cells": [
  {
   "cell_type": "markdown",
   "id": "2ab5be7e",
   "metadata": {},
   "source": [
    "## Dictionaries Assignment"
   ]
  },
  {
   "cell_type": "markdown",
   "id": "48e925e6",
   "metadata": {},
   "source": [
    "##### 1. Convert snake case into Camel case and vice versa\n",
    "   inp = \"is_valid_number\" --->isValidNumber"
   ]
  },
  {
   "cell_type": "code",
   "execution_count": 1,
   "id": "40d76121",
   "metadata": {},
   "outputs": [
    {
     "name": "stdout",
     "output_type": "stream",
     "text": [
      "isValidNumber\n"
     ]
    }
   ],
   "source": [
    "inp = \"is_valid_number\"\n",
    "inp=inp.split('_')\n",
    "op=''\n",
    "for i in range(len(inp)):\n",
    "    if i!=0:\n",
    "        op=op+inp[i].title()\n",
    "    else:\n",
    "        op=op+inp[i]\n",
    "print(op)"
   ]
  },
  {
   "cell_type": "markdown",
   "id": "56ae7dd3",
   "metadata": {},
   "source": [
    "##### 2. \"\"\"ABCDE --- Move 2 positions cyclic (Use Mod to length of string if Cyclic position is greater than length)\n",
    "      Now result is ---CDEAB\n",
    "      input : ABCDE\n",
    "      output: CDEAB  \n",
    "    \"\"\""
   ]
  },
  {
   "cell_type": "code",
   "execution_count": 2,
   "id": "e143dc77",
   "metadata": {},
   "outputs": [
    {
     "name": "stdout",
     "output_type": "stream",
     "text": [
      "CDEAB\n"
     ]
    }
   ],
   "source": [
    "inp='ABCDE'\n",
    "opt=inp[2:]+inp[:2]\n",
    "print(opt)"
   ]
  },
  {
   "cell_type": "markdown",
   "id": "4ff03d86",
   "metadata": {},
   "source": [
    "##### 3. group the elements like below \n",
    " \n",
    " input : ['abt','bta','tab','bar','dsksllkd','tba']\n",
    " \n",
    " output : [['abt', 'bta', 'tab', 'tba'], ['bar'], ['dsksllkd']]        "
   ]
  },
  {
   "cell_type": "code",
   "execution_count": 3,
   "id": "860c1450",
   "metadata": {},
   "outputs": [
    {
     "name": "stdout",
     "output_type": "stream",
     "text": [
      "[['abt', 'bta', 'tab', 'tba'], ['bar'], ['dsksllkd']]\n"
     ]
    }
   ],
   "source": [
    "inp = ['abt','bta','tab','bar','dsksllkd','tba']\n",
    "opt=[inp[:3]+[(inp[-1])]]\n",
    "opt.append([inp[3]])\n",
    "opt.append([inp[-2]])\n",
    "print(opt)"
   ]
  },
  {
   "cell_type": "markdown",
   "id": "ede4f456",
   "metadata": {},
   "source": [
    "##### 4. Shift all zeroes to last\n",
    "\n",
    "lst = [1,0,1,0,0,1,1,0]"
   ]
  },
  {
   "cell_type": "code",
   "execution_count": 4,
   "id": "3483a7c4",
   "metadata": {},
   "outputs": [
    {
     "name": "stdout",
     "output_type": "stream",
     "text": [
      "[1, 1, 1, 1, 0, 0, 0, 0]\n"
     ]
    }
   ],
   "source": [
    "lst=[1,0,1,0,0,1,1,0]\n",
    "lst.sort()\n",
    "lst.reverse()\n",
    "print(lst)"
   ]
  },
  {
   "cell_type": "markdown",
   "id": "e6ce7fe3",
   "metadata": {},
   "source": [
    "##### 5. \"\"\"AAAABBBCCDDDD you have to print it as 4A3B2C4D\"\"\""
   ]
  },
  {
   "cell_type": "code",
   "execution_count": 5,
   "id": "f9927cb6",
   "metadata": {},
   "outputs": [
    {
     "name": "stdout",
     "output_type": "stream",
     "text": [
      "4A3B2C4D"
     ]
    }
   ],
   "source": [
    "inp='AAAABBBCCDDDD'\n",
    "op={}\n",
    "for i in inp:\n",
    "    if i not in op.values():\n",
    "        op.update({i:inp.count(i)})\n",
    "    else:\n",
    "        continue\n",
    "for k,v in op.items():\n",
    "    print(f'{v}{k}',end='')"
   ]
  },
  {
   "cell_type": "markdown",
   "id": "1de691d2",
   "metadata": {},
   "source": [
    "##### 6. example given the string \"Welcome to the danger zone\" should become \"zone danger the to Welcome\" and not enoz regnad eht ot emocleW"
   ]
  },
  {
   "cell_type": "code",
   "execution_count": 6,
   "id": "dcb58f54",
   "metadata": {},
   "outputs": [
    {
     "name": "stdout",
     "output_type": "stream",
     "text": [
      "zone danger the to Welcome "
     ]
    }
   ],
   "source": [
    "s='Welcome to the danger zone'\n",
    "for i in s.split()[::-1]:\n",
    "    print(f'{i}',end=' ')"
   ]
  },
  {
   "cell_type": "markdown",
   "id": "c65c4dee",
   "metadata": {},
   "source": [
    "##### 7. You are given a string input, let's say \"Hello World!\". Your output should be, how many times each character is showing up in the string. So, in this example, it should write:\n",
    "\n",
    "H: 1 e: 1 l: 3 o: 2"
   ]
  },
  {
   "cell_type": "code",
   "execution_count": 7,
   "id": "7116fea9",
   "metadata": {},
   "outputs": [
    {
     "name": "stdout",
     "output_type": "stream",
     "text": [
      "H:1 e:1 l:3 o:2 W:1 r:1 d:1 "
     ]
    }
   ],
   "source": [
    "s='Hello World'\n",
    "so={}\n",
    "c=0\n",
    "for i in s:\n",
    "    if i not in so and i!=' ':\n",
    "        so.update({i:s.count(i)})\n",
    "        print(f'{i}:{s.count(i)}',end=' ')"
   ]
  },
  {
   "cell_type": "code",
   "execution_count": null,
   "id": "5af0ee48",
   "metadata": {},
   "outputs": [],
   "source": []
  }
 ],
 "metadata": {
  "kernelspec": {
   "display_name": "Python 3",
   "language": "python",
   "name": "python3"
  },
  "language_info": {
   "codemirror_mode": {
    "name": "ipython",
    "version": 3
   },
   "file_extension": ".py",
   "mimetype": "text/x-python",
   "name": "python",
   "nbconvert_exporter": "python",
   "pygments_lexer": "ipython3",
   "version": "3.8.8"
  }
 },
 "nbformat": 4,
 "nbformat_minor": 5
}
