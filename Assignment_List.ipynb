{
 "cells": [
  {
   "cell_type": "markdown",
   "id": "160c63cc",
   "metadata": {},
   "source": [
    "## List Exercises......"
   ]
  },
  {
   "cell_type": "markdown",
   "id": "97c99978",
   "metadata": {},
   "source": [
    "##### 1. Indexing and Negative Indexing (How can You reverse a string through indexing?)"
   ]
  },
  {
   "cell_type": "code",
   "execution_count": 1,
   "id": "b878a11a",
   "metadata": {},
   "outputs": [
    {
     "name": "stdout",
     "output_type": "stream",
     "text": [
      "dlrow olleH\n"
     ]
    }
   ],
   "source": [
    "#index value starts from 0\n",
    "#negative index starts from -1\n",
    "s='Hello world'\n",
    "print(s[::-1])"
   ]
  },
  {
   "cell_type": "markdown",
   "id": "ee5feec9",
   "metadata": {},
   "source": [
    "#####  2. example given the string \"Welcome to the danger zone\" should become \"zone danger the to Welcome\" and not enoz regnad eht ot emocleW"
   ]
  },
  {
   "cell_type": "code",
   "execution_count": 2,
   "id": "2410ce36",
   "metadata": {},
   "outputs": [
    {
     "name": "stdout",
     "output_type": "stream",
     "text": [
      " zone danger the to Welcome\n"
     ]
    }
   ],
   "source": [
    "s1='Welcome to the danger zone'\n",
    "s2=''\n",
    "for i in s1.split()[::-1]:\n",
    "    s2=s2+\" \" +i\n",
    "print(s2)"
   ]
  },
  {
   "cell_type": "markdown",
   "id": "79a8379e",
   "metadata": {},
   "source": [
    "##### 3. You are given a string input, let's say \"Hello World!\". Your output should be, how many times each character is showing up in the string. So, in this example, it should write:\n",
    "\n",
    "H: 1 e: 1 l: 3 o: 2"
   ]
  },
  {
   "cell_type": "code",
   "execution_count": 5,
   "id": "8fced326",
   "metadata": {},
   "outputs": [
    {
     "name": "stdout",
     "output_type": "stream",
     "text": [
      "H: 1 e: 1 l: 3 o: 2 W: 1 r: 1 d: 1 "
     ]
    }
   ],
   "source": [
    "s1='Hello World'\n",
    "s2={}\n",
    "for item in s1:\n",
    "    if (item not in s2) and item!=' ':\n",
    "        s2.update({item:s1.count(item)})\n",
    "        print(f'{item}: {s1.count(item)}',end=' ')"
   ]
  },
  {
   "cell_type": "markdown",
   "id": "0b5db718",
   "metadata": {},
   "source": [
    "##### 4. What is difference between python scripts and Modules?"
   ]
  },
  {
   "cell_type": "code",
   "execution_count": null,
   "id": "251b6a56",
   "metadata": {},
   "outputs": [],
   "source": [
    "#Python script is a directly executable piece of code run by itself.\n",
    "#Module is a library imported by other pieces of code.\n",
    "\n",
    "#Scripts are top level files intended for execution and \n",
    "#Modules are intented to be imported..."
   ]
  },
  {
   "cell_type": "markdown",
   "id": "ceb9ee6c",
   "metadata": {},
   "source": [
    "##### 5. What is the difference between lists and tuples? Which is faster, which is more size ..etc?"
   ]
  },
  {
   "cell_type": "code",
   "execution_count": null,
   "id": "2a61888f",
   "metadata": {},
   "outputs": [],
   "source": [
    "#List is mutable where as tuple is immutable\n",
    "#list is used to perfom operations like adding ,deleting etc. where as tuple is used for accessesing\n",
    "#list will take more time when compared to tuple while iterations.\n",
    "#list consume more memory where as tuple consumes less memory."
   ]
  },
  {
   "cell_type": "markdown",
   "id": "8b568f4d",
   "metadata": {},
   "source": [
    "##### 6. List append and extend method difference?"
   ]
  },
  {
   "cell_type": "code",
   "execution_count": null,
   "id": "aa13d207",
   "metadata": {},
   "outputs": [],
   "source": [
    "#append() method will adds its argument as a single element to list of items at the end.\n",
    "#extend() method will add list of items individually at the end."
   ]
  },
  {
   "cell_type": "markdown",
   "id": "fca842c4",
   "metadata": {},
   "source": [
    "##### 7. Remove, pop and delete method difference on list?"
   ]
  },
  {
   "cell_type": "code",
   "execution_count": null,
   "id": "7b5cad7b",
   "metadata": {},
   "outputs": [],
   "source": [
    "#remove() will removes first matching value from the list\n",
    "#pop() will deletes the specified intex value item and returns deleted value.\n",
    "#clear() will removes total value from object."
   ]
  },
  {
   "cell_type": "markdown",
   "id": "cc4d97aa",
   "metadata": {},
   "source": [
    "##### 8. Check if a list contains an element"
   ]
  },
  {
   "cell_type": "code",
   "execution_count": 8,
   "id": "fb8b3757",
   "metadata": {},
   "outputs": [
    {
     "name": "stdout",
     "output_type": "stream",
     "text": [
      "Apple is available in my fridge..\n"
     ]
    }
   ],
   "source": [
    "myList=['apple','banana','orange']\n",
    "if 'apple' in myList:\n",
    "    print('Apple is available in my fridge..')\n",
    "else:\n",
    "    print('Not available!!!!')"
   ]
  },
  {
   "cell_type": "markdown",
   "id": "5f2a6762",
   "metadata": {},
   "source": [
    "##### 9. What does “del” do?"
   ]
  },
  {
   "cell_type": "code",
   "execution_count": null,
   "id": "b9447d20",
   "metadata": {},
   "outputs": [],
   "source": [
    "#del is a keyword to del either specified item with index value or entire data of object."
   ]
  },
  {
   "cell_type": "markdown",
   "id": "b2527eb7",
   "metadata": {},
   "source": [
    "##### 10. Find the index of the 1st matching element?"
   ]
  },
  {
   "cell_type": "code",
   "execution_count": 21,
   "id": "354dc78d",
   "metadata": {},
   "outputs": [
    {
     "name": "stdout",
     "output_type": "stream",
     "text": [
      "2\n"
     ]
    }
   ],
   "source": [
    "inp=3\n",
    "l=[1,2,3,4,5,3,7,3,9,10]\n",
    "print(l.index(3))"
   ]
  },
  {
   "cell_type": "markdown",
   "id": "7dd21c18",
   "metadata": {},
   "source": [
    "##### 11. Remove all elements from a list?"
   ]
  },
  {
   "cell_type": "code",
   "execution_count": 13,
   "id": "fc5beb0a",
   "metadata": {},
   "outputs": [
    {
     "name": "stdout",
     "output_type": "stream",
     "text": [
      "[1, 2, 3, 4, 5, 6, 7, 8, 9, 10]\n",
      "Length: 10\n",
      "[]\n"
     ]
    }
   ],
   "source": [
    "print(l)\n",
    "print(f'Length: {len(l)}')\n",
    "l.clear()\n",
    "print(l)"
   ]
  },
  {
   "cell_type": "markdown",
   "id": "5d553218",
   "metadata": {},
   "source": [
    "##### 12. Count the occurrence of a specific object in a list?"
   ]
  },
  {
   "cell_type": "code",
   "execution_count": 27,
   "id": "1c4f810d",
   "metadata": {},
   "outputs": [
    {
     "name": "stdout",
     "output_type": "stream",
     "text": [
      "Given value is in 3 positions\n"
     ]
    }
   ],
   "source": [
    "#inp=int(input('Enter values between  1 to 10: ')) //taking input from user.\n",
    "inp=2\n",
    "l=[1,2,3,4,5,4,2,8,2,10]\n",
    "c=0\n",
    "for i in range(len(l)):\n",
    "    if inp==l[i]:\n",
    "        c=c+1\n",
    "print(f'Given value is in {c} positions')"
   ]
  },
  {
   "cell_type": "markdown",
   "id": "d5f66920",
   "metadata": {},
   "source": [
    "##### 13. Return the length of a list?"
   ]
  },
  {
   "cell_type": "code",
   "execution_count": 28,
   "id": "1eac5239",
   "metadata": {},
   "outputs": [
    {
     "name": "stdout",
     "output_type": "stream",
     "text": [
      "Length: 10\n"
     ]
    }
   ],
   "source": [
    "l=[1,2,3,4,5,4,2,8,2,10]\n",
    "print(f'Length: {len(l)}')"
   ]
  },
  {
   "cell_type": "markdown",
   "id": "60df95cf",
   "metadata": {},
   "source": [
    "##### 14. Reverse a list in Python \n",
    "   list1 = [100, 200, 300, 400, 500] --- >[500, 400, 300, 200, 100]"
   ]
  },
  {
   "cell_type": "code",
   "execution_count": 31,
   "id": "84daaeea",
   "metadata": {},
   "outputs": [
    {
     "name": "stdout",
     "output_type": "stream",
     "text": [
      "Reversed list: [500, 400, 300, 200, 100]\n"
     ]
    }
   ],
   "source": [
    "list1=[100,200,300,400,500]\n",
    "list1.reverse()\n",
    "print(f'Reversed list: {list1}')"
   ]
  },
  {
   "cell_type": "markdown",
   "id": "be435572",
   "metadata": {},
   "source": [
    "##### 15. Concatenate two lists index-wise \n",
    "list1 = [\"M\", \"na\", \"i\", \"Ke\"]\n",
    "list2 = [\"y\", \"me\", \"s\", \"lly\"] --- >['My', 'name', 'is', 'Kelly']"
   ]
  },
  {
   "cell_type": "code",
   "execution_count": 32,
   "id": "4dfcf91d",
   "metadata": {},
   "outputs": [
    {
     "name": "stdout",
     "output_type": "stream",
     "text": [
      "['My', 'name', 'is', 'Kelly']\n"
     ]
    }
   ],
   "source": [
    "list1=['M','na','i','Ke']\n",
    "list2=['y','me','s','lly']\n",
    "list3=[]       \n",
    "for item in range(len(list1)):\n",
    "       list3.append(list1[item]+list2[item])\n",
    "print(list3)"
   ]
  },
  {
   "cell_type": "markdown",
   "id": "a7d10a4f",
   "metadata": {},
   "source": [
    "##### 16. Turn every item of a list into its square \n",
    "   numbers = [1, 2, 3, 4, 5, 6, 7] --- >[1, 4, 9, 16, 25, 36, 49]"
   ]
  },
  {
   "cell_type": "code",
   "execution_count": 33,
   "id": "5b901f02",
   "metadata": {},
   "outputs": [
    {
     "name": "stdout",
     "output_type": "stream",
     "text": [
      "[1, 4, 9, 16, 25, 36, 49]\n"
     ]
    }
   ],
   "source": [
    "list1=[1,2,3,4,5,6,7]\n",
    "slist=[]\n",
    "for item in list1:\n",
    "    slist.append(item**2)\n",
    "print(slist)"
   ]
  },
  {
   "cell_type": "markdown",
   "id": "675b56bb",
   "metadata": {},
   "source": [
    "##### 17. Concatenate two lists in the following order -- \n",
    "list1 = [\"Hello \", \"take \"]\n",
    "list2 = [\"Dear\", \"Sir\"] ----- >['Hello Dear', 'Hello Sir', 'take Dear', 'take Sir']"
   ]
  },
  {
   "cell_type": "code",
   "execution_count": 34,
   "id": "112d45c6",
   "metadata": {},
   "outputs": [
    {
     "name": "stdout",
     "output_type": "stream",
     "text": [
      "['Hello Dear', 'Hello Sir', 'Take Dear', 'Take Sir']\n"
     ]
    }
   ],
   "source": [
    "list1=['Hello','Take']\n",
    "list2=['Dear','Sir']\n",
    "list3=[]\n",
    "for i in list1:\n",
    "    for j in list2:\n",
    "        list3.append(i+' '+j)\n",
    "print(list3)"
   ]
  },
  {
   "cell_type": "markdown",
   "id": "d70554fe",
   "metadata": {},
   "source": [
    "##### 18. Iterate both lists simultaneously\n",
    "list1 = [10, 20, 30, 40]\n",
    "list2 = [100, 200, 300, 400] ---- >\n",
    "10 400\n",
    "20 300\n",
    "30 200\n",
    "40 100  "
   ]
  },
  {
   "cell_type": "code",
   "execution_count": 40,
   "id": "1dc0c0ad",
   "metadata": {},
   "outputs": [
    {
     "name": "stdout",
     "output_type": "stream",
     "text": [
      "[10, 400, 20, 300, 30, 200, 40, 100]\n"
     ]
    }
   ],
   "source": [
    "list1=[10,20,30,40]\n",
    "list2=[100,200,300,400]\n",
    "list3=[]\n",
    "for a,b in zip(list1,list2[::-1]):\n",
    "    list3.extend([a,b])\n",
    "print(list3)"
   ]
  },
  {
   "cell_type": "markdown",
   "id": "106cca12",
   "metadata": {},
   "source": [
    "##### 19. Remove empty strings from the list of strings\n",
    "list1 = [\"Mike\", \"\", \"Emma\", \"Kelly\", \"\", \"Brad\"] --- >[\"Mike\", \"Emma\", \"Kelly\", \"Brad\"]"
   ]
  },
  {
   "cell_type": "code",
   "execution_count": 36,
   "id": "e606d84e",
   "metadata": {},
   "outputs": [
    {
     "name": "stdout",
     "output_type": "stream",
     "text": [
      "['Mike', 'Emma', 'Kelly', 'Brad']\n"
     ]
    }
   ],
   "source": [
    "test_list = [\"Mike\",\"\", \"Emma\", \"\", \"Kelly\", \"Brad\", \"\"]\n",
    "test_list=[i for i in test_list if i!='']\n",
    "print(test_list)"
   ]
  },
  {
   "cell_type": "markdown",
   "id": "d9713ac8",
   "metadata": {},
   "source": [
    "##### 20. Add new item to list after a specified item --- >\n",
    "list1 = [10, 20, [300, 400, [5000, 6000], 500], 30, 40] --->[10, 20, [300, 400, [5000, 6000, 7000], 500], 30, 40]"
   ]
  },
  {
   "cell_type": "code",
   "execution_count": 37,
   "id": "68f6d87b",
   "metadata": {},
   "outputs": [
    {
     "name": "stdout",
     "output_type": "stream",
     "text": [
      "[10, 20, [300, 400, [5000, 6000, 7000], 500], 30, 40]\n"
     ]
    }
   ],
   "source": [
    "list1=[10,20,[300,400,[5000,6000],500],30,40]\n",
    "list1[2][2].append(7000)\n",
    "print(list1)"
   ]
  },
  {
   "cell_type": "markdown",
   "id": "dda982e7",
   "metadata": {},
   "source": [
    "##### 21. Extend nested list by adding the sublist\n",
    "list1 = [\"a\", \"b\", [\"c\", [\"d\", \"e\", [\"f\", \"g\"], \"k\"], \"l\"], \"m\", \"n\"]\n",
    "sub list to add\n",
    "sub_list = [\"h\", \"i\", \"j\"]\n",
    "\n",
    "---- > ['a', 'b', ['c', ['d', 'e', ['f', 'g', 'h', 'i', 'j'], 'k'], 'l'], 'm', 'n']\n"
   ]
  },
  {
   "cell_type": "code",
   "execution_count": 38,
   "id": "9a39d186",
   "metadata": {},
   "outputs": [
    {
     "name": "stdout",
     "output_type": "stream",
     "text": [
      "['a', 'b', ['c', ['d', 'e', ['f', 'g', 'h', 'i', 'j'], 'k'], 'l'], 'm', 'n']\n"
     ]
    }
   ],
   "source": [
    "list1 = [\"a\", \"b\", [\"c\", [\"d\", \"e\", [\"f\", \"g\"], \"k\"], \"l\"], \"m\", \"n\"]\n",
    "sub_list = [\"h\", \"i\", \"j\"]\n",
    "list1[2][1][2].extend(sub_list)\n",
    "print(list1)"
   ]
  },
  {
   "cell_type": "markdown",
   "id": "3f366363",
   "metadata": {},
   "source": [
    "##### 22.Replace list’s item with new value if found\n",
    "list1 = [5, 10, 15, 20, 25, 50, 20] ---- >[5, 10, 15, 200, 25, 50, 20]\n"
   ]
  },
  {
   "cell_type": "code",
   "execution_count": 39,
   "id": "f7099bc2",
   "metadata": {},
   "outputs": [
    {
     "name": "stdout",
     "output_type": "stream",
     "text": [
      "[5, 10, 15, 200, 25, 50, 20]\n"
     ]
    }
   ],
   "source": [
    "list1 = [5, 10, 15, 20, 25, 50, 20]\n",
    "list1[list1.index(20)]=200\n",
    "print(list1)"
   ]
  },
  {
   "cell_type": "code",
   "execution_count": null,
   "id": "3388f3c9",
   "metadata": {},
   "outputs": [],
   "source": []
  }
 ],
 "metadata": {
  "kernelspec": {
   "display_name": "Python 3",
   "language": "python",
   "name": "python3"
  },
  "language_info": {
   "codemirror_mode": {
    "name": "ipython",
    "version": 3
   },
   "file_extension": ".py",
   "mimetype": "text/x-python",
   "name": "python",
   "nbconvert_exporter": "python",
   "pygments_lexer": "ipython3",
   "version": "3.8.8"
  }
 },
 "nbformat": 4,
 "nbformat_minor": 5
}
